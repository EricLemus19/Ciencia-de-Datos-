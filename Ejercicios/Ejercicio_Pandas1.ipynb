{
  "nbformat": 4,
  "nbformat_minor": 0,
  "metadata": {
    "colab": {
      "provenance": []
    },
    "kernelspec": {
      "name": "python3",
      "display_name": "Python 3"
    },
    "language_info": {
      "name": "python"
    }
  },
  "cells": [
    {
      "cell_type": "markdown",
      "source": [
        "# Ejercicio Pandas"
      ],
      "metadata": {
        "id": "UqeNXfAnX_3C"
      }
    },
    {
      "cell_type": "code",
      "execution_count": 136,
      "metadata": {
        "colab": {
          "base_uri": "https://localhost:8080/"
        },
        "id": "SsAK6aaGXJWz",
        "outputId": "409808f8-7779-4285-aff7-414cba63ee6b"
      },
      "outputs": [
        {
          "output_type": "execute_result",
          "data": {
            "text/plain": [
              "a    10\n",
              "b    11\n",
              "c    12\n",
              "d    13\n",
              "e    14\n",
              "f    15\n",
              "g    16\n",
              "h    17\n",
              "i    18\n",
              "j    19\n",
              "k    20\n",
              "l    21\n",
              "m    22\n",
              "n    23\n",
              "o    24\n",
              "p    25\n",
              "q    26\n",
              "r    27\n",
              "s    28\n",
              "t    29\n",
              "u    30\n",
              "v    31\n",
              "w    32\n",
              "x    33\n",
              "y    34\n",
              "z    35\n",
              "dtype: int64"
            ]
          },
          "metadata": {},
          "execution_count": 136
        }
      ],
      "source": [
        "import pandas as pd \n",
        "\n",
        "letras =  [chr(i) for i in range(ord('a'),ord('z')+1)]\n",
        "numeros = range(10,36)\n",
        "A = pd.Series(data=numeros, index=letras)\n",
        "A"
      ]
    },
    {
      "cell_type": "code",
      "source": [
        "A['a']"
      ],
      "metadata": {
        "colab": {
          "base_uri": "https://localhost:8080/"
        },
        "id": "PKSbrIJbYbLE",
        "outputId": "1263bd05-f73d-4d07-aaaf-be62e3a2d09d"
      },
      "execution_count": 5,
      "outputs": [
        {
          "output_type": "execute_result",
          "data": {
            "text/plain": [
              "10"
            ]
          },
          "metadata": {},
          "execution_count": 5
        }
      ]
    },
    {
      "cell_type": "code",
      "source": [
        "letras.sort(reverse=True)\n",
        "B = pd.Series(data=letras, index = numeros)\n",
        "B"
      ],
      "metadata": {
        "colab": {
          "base_uri": "https://localhost:8080/"
        },
        "id": "d3nIU6yhY2KL",
        "outputId": "ecae9d07-15a9-4aea-f0bd-7c50115dd444"
      },
      "execution_count": 137,
      "outputs": [
        {
          "output_type": "execute_result",
          "data": {
            "text/plain": [
              "10    z\n",
              "11    y\n",
              "12    x\n",
              "13    w\n",
              "14    v\n",
              "15    u\n",
              "16    t\n",
              "17    s\n",
              "18    r\n",
              "19    q\n",
              "20    p\n",
              "21    o\n",
              "22    n\n",
              "23    m\n",
              "24    l\n",
              "25    k\n",
              "26    j\n",
              "27    i\n",
              "28    h\n",
              "29    g\n",
              "30    f\n",
              "31    e\n",
              "32    d\n",
              "33    c\n",
              "34    b\n",
              "35    a\n",
              "dtype: object"
            ]
          },
          "metadata": {},
          "execution_count": 137
        }
      ]
    },
    {
      "cell_type": "code",
      "source": [
        "A.loc['d':'i']"
      ],
      "metadata": {
        "colab": {
          "base_uri": "https://localhost:8080/"
        },
        "id": "z_tDwHI_Z-7Z",
        "outputId": "fa31d909-e3df-4a96-bc98-381d827dc02d"
      },
      "execution_count": 138,
      "outputs": [
        {
          "output_type": "execute_result",
          "data": {
            "text/plain": [
              "d    13\n",
              "e    14\n",
              "f    15\n",
              "g    16\n",
              "h    17\n",
              "i    18\n",
              "dtype: int64"
            ]
          },
          "metadata": {},
          "execution_count": 138
        }
      ]
    },
    {
      "cell_type": "code",
      "source": [
        "valores_rango = B[(B >= 'd') & (B <= 'i')]\n",
        "valores_rango"
      ],
      "metadata": {
        "colab": {
          "base_uri": "https://localhost:8080/"
        },
        "id": "4XsyoZvKoebB",
        "outputId": "54ec7bc1-de66-4e03-ea97-815904546893"
      },
      "execution_count": 139,
      "outputs": [
        {
          "output_type": "execute_result",
          "data": {
            "text/plain": [
              "27    i\n",
              "28    h\n",
              "29    g\n",
              "30    f\n",
              "31    e\n",
              "32    d\n",
              "dtype: object"
            ]
          },
          "metadata": {},
          "execution_count": 139
        }
      ]
    }
  ]
}